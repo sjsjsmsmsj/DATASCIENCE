{
 "cells": [
  {
   "cell_type": "code",
   "execution_count": 1,
   "id": "b4d98943",
   "metadata": {},
   "outputs": [],
   "source": [
    "import pandas as pd \n",
    "import numpy as np \n",
    "import matplotlib.pyplot as plt "
   ]
  },
  {
   "cell_type": "code",
   "execution_count": 2,
   "id": "12e4854a",
   "metadata": {},
   "outputs": [],
   "source": [
    "weeks_data = [1, 2, 3, 4, 5] \n",
    "sales = [2, 4, 5, 4, 5]"
   ]
  },
  {
   "cell_type": "code",
   "execution_count": 3,
   "id": "d3c9aac6",
   "metadata": {},
   "outputs": [],
   "source": [
    "df = pd.DataFrame({\"Weeks\": weeks_data, \"Sales\": sales})"
   ]
  },
  {
   "cell_type": "code",
   "execution_count": 4,
   "id": "6125d89d",
   "metadata": {},
   "outputs": [],
   "source": [
    "X = df['Weeks'].values \n",
    "Y = df['Sales'].values"
   ]
  },
  {
   "cell_type": "code",
   "execution_count": 6,
   "id": "6268ff66",
   "metadata": {},
   "outputs": [],
   "source": [
    "mean_x = np.mean(X) \n",
    "mean_y = np.mean(Y)\n",
    "\n",
    "n = len(X)\n",
    "\n",
    "number = 0 # counter \n",
    "denom = 0 # counter "
   ]
  },
  {
   "cell_type": "code",
   "execution_count": 11,
   "id": "105d136d",
   "metadata": {},
   "outputs": [
    {
     "name": "stdout",
     "output_type": "stream",
     "text": [
      "0.6\n",
      "2.2\n"
     ]
    }
   ],
   "source": [
    "for i in range(n): \n",
    "    number += (X[i] - mean_x) * (Y[i] - mean_y)\n",
    "    denom += (X[i] - mean_x) ** 2\n",
    "\n",
    "m = number / denom \n",
    "c = mean_y - m * mean_x\n",
    "print(m)\n",
    "print(c)"
   ]
  },
  {
   "cell_type": "code",
   "execution_count": 26,
   "id": "faaf9894",
   "metadata": {},
   "outputs": [
    {
     "data": {
      "image/png": "[encoded data removed]",
      "text/plain": [
       "<Figure size 640x480 with 1 Axes>"
      ]
     },
     "metadata": {},
     "output_type": "display_data"
    }
   ],
   "source": [
    "max_x = np.max(X) + 1 \n",
    "min_x = np.min(X) - 1 \n",
    "\n",
    "x = np.linspace(min_x, max_x) \n",
    "y = (m * x) + c \n",
    "\n",
    "plt.plot(x, y, '--', label=\"Regression line\")\n",
    "plt.scatter(X, Y, color=\"red\", label=\"Data point\")\n",
    "plt.xlabel(\"Weeks\")\n",
    "plt.ylabel(\"Sales\")\n",
    "plt.grid(True)\n",
    "plt.legend()\n",
    "plt.show()\n"
   ]
  },
  {
   "cell_type": "code",
   "execution_count": 27,
   "id": "a69b27a5",
   "metadata": {},
   "outputs": [],
   "source": [
    "arr_new = [] \n",
    "for i in range(len(X)): \n",
    "    y = (m * X[i]) + c \n",
    "    arr_new.append(y)"
   ]
  },
  {
   "cell_type": "code",
   "execution_count": 28,
   "id": "dbfbedfd",
   "metadata": {},
   "outputs": [
    {
     "data": {
      "text/plain": [
       "[np.float64(2.8000000000000003),\n",
       " np.float64(3.4000000000000004),\n",
       " np.float64(4.0),\n",
       " np.float64(4.6),\n",
       " np.float64(5.2)]"
      ]
     },
     "execution_count": 28,
     "metadata": {},
     "output_type": "execute_result"
    }
   ],
   "source": [
    "arr_new"
   ]
  },
  {
   "cell_type": "code",
   "execution_count": 29,
   "id": "42a4c2c0",
   "metadata": {},
   "outputs": [
    {
     "name": "stdout",
     "output_type": "stream",
     "text": [
      "0.6000000000000001\n"
     ]
    }
   ],
   "source": [
    "ss_tot = 0 \n",
    "ss_res = 0 \n",
    "for i in range(n): \n",
    "    y_pred = (m * X[i]) + c \n",
    "    ss_tot += (Y[i] - mean_y) ** 2 \n",
    "    ss_res += (Y[i] - y_pred) ** 2 \n",
    "\n",
    "r2 = 1 - (ss_res / ss_tot)\n",
    "print(r2)"
   ]
  },
  {
   "cell_type": "code",
   "execution_count": 30,
   "id": "d764628c",
   "metadata": {},
   "outputs": [],
   "source": [
    "from sklearn.linear_model import LinearRegression"
   ]
  },
  {
   "cell_type": "code",
   "execution_count": 32,
   "id": "a5166318",
   "metadata": {},
   "outputs": [
    {
     "data": {
      "text/plain": [
       "array([[1],\n",
       "       [2],\n",
       "       [3],\n",
       "       [4],\n",
       "       [5]])"
      ]
     },
     "execution_count": 32,
     "metadata": {},
     "output_type": "execute_result"
    }
   ],
   "source": [
    "X = X.reshape((n, 1))\n",
    "X"
   ]
  },
  {
   "cell_type": "code",
   "execution_count": 33,
   "id": "6beb8b7c",
   "metadata": {},
   "outputs": [],
   "source": [
    "reg = LinearRegression() \n",
    "reg = reg.fit(X, Y)"
   ]
  },
  {
   "cell_type": "code",
   "execution_count": 35,
   "id": "19c4aa8e",
   "metadata": {},
   "outputs": [
    {
     "data": {
      "text/plain": [
       "0.6000000000000001"
      ]
     },
     "execution_count": 35,
     "metadata": {},
     "output_type": "execute_result"
    }
   ],
   "source": [
    "R2 = reg.score(X, Y)\n",
    "R2"
   ]
  },
  {
   "cell_type": "code",
   "execution_count": null,
   "id": "105338c5",
   "metadata": {},
   "outputs": [],
   "source": []
  },
  {
   "cell_type": "code",
   "execution_count": null,
   "id": "1ccbbcad",
   "metadata": {},
   "outputs": [],
   "source": []
  }
 ],
 "metadata": {
  "kernelspec": {
   "display_name": "Python 3",
   "language": "python",
   "name": "python3"
  },
  "language_info": {
   "codemirror_mode": {
    "name": "ipython",
    "version": 3
   },
   "file_extension": ".py",
   "mimetype": "text/x-python",
   "name": "python",
   "nbconvert_exporter": "python",
   "pygments_lexer": "ipython3",
   "version": "3.11.9"
  }
 },
 "nbformat": 4,
 "nbformat_minor": 5
}
